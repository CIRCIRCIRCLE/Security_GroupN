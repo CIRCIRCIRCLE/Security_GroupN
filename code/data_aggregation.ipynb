{
 "cells": [
  {
   "cell_type": "code",
   "execution_count": 11,
   "metadata": {},
   "outputs": [],
   "source": [
    "import pandas as pd\n",
    "import numpy as np\n",
    "import os\n",
    "from tqdm import tqdm\n",
    "import os\n",
    "import pickle"
   ]
  },
  {
   "cell_type": "code",
   "execution_count": 12,
   "metadata": {},
   "outputs": [],
   "source": [
    "path = '../CICIoT2023/'"
   ]
  },
  {
   "cell_type": "code",
   "execution_count": 13,
   "metadata": {},
   "outputs": [],
   "source": [
    "# Find all CSV files in the dataset directory and sort them\n",
    "df_sets = [k for k in os.listdir(path) if k.endswith('.csv')]\n",
    "df_sets.sort()\n",
    "\n",
    "# Split the dataset into training and test sets. 80% training, 20% test\n",
    "training_sets = df_sets[:int(len(df_sets)*.8)]\n",
    "testing_sets = df_sets[int(len(df_sets)*.8):]"
   ]
  },
  {
   "cell_type": "code",
   "execution_count": 14,
   "metadata": {},
   "outputs": [
    {
     "name": "stdout",
     "output_type": "stream",
     "text": [
      "Training sets: 135\n",
      "Test sets: 34\n"
     ]
    }
   ],
   "source": [
    "print('Training sets: {}'.format(len(training_sets)))\n",
    "print('Test sets: {}'.format(len(testing_sets)))"
   ]
  },
  {
   "cell_type": "code",
   "execution_count": 15,
   "metadata": {},
   "outputs": [],
   "source": [
    "X_columns = [\n",
    "    'flow_duration', 'Header_Length', 'Protocol Type', 'Duration',\n",
    "       'Rate', 'Srate', 'Drate', 'fin_flag_number', 'syn_flag_number',\n",
    "       'rst_flag_number', 'psh_flag_number', 'ack_flag_number',\n",
    "       'ece_flag_number', 'cwr_flag_number', 'ack_count',\n",
    "       'syn_count', 'fin_count', 'urg_count', 'rst_count', \n",
    "    'HTTP', 'HTTPS', 'DNS', 'Telnet', 'SMTP', 'SSH', 'IRC', 'TCP',\n",
    "       'UDP', 'DHCP', 'ARP', 'ICMP', 'IPv', 'LLC', 'Tot sum', 'Min',\n",
    "       'Max', 'AVG', 'Std', 'Tot size', 'IAT', 'Number', 'Magnitue',\n",
    "       'Radius', 'Covariance', 'Variance', 'Weight', \n",
    "]\n",
    "y_column = 'label'"
   ]
  },
  {
   "cell_type": "code",
   "execution_count": null,
   "metadata": {},
   "outputs": [],
   "source": [
    "# x values 30 min\n",
    "df = []\n",
    "\n",
    "count = 0\n",
    "for train_set in tqdm(training_sets):\n",
    "    if count == 0:\n",
    "        df = pd.read_csv(path + train_set)[X_columns]\n",
    "    else:\n",
    "        df_new = pd.read_csv(path + train_set)[X_columns]\n",
    "        df = pd.concat([df, df_new], ignore_index=True)\n",
    "    count = count + 1\n",
    "    \n",
    "df.to_pickle('../datasets/training_data-X_values.pkl')"
   ]
  },
  {
   "cell_type": "code",
   "execution_count": null,
   "metadata": {},
   "outputs": [],
   "source": [
    "y_df = []\n",
    "\n",
    "count = 0\n",
    "for train_set in tqdm(training_sets):\n",
    "    if count == 0:\n",
    "        y_df = pd.read_csv(path + train_set)[y_column]\n",
    "    else:\n",
    "        y_df_new = pd.read_csv(path + train_set)[y_column]\n",
    "        y_df = pd.concat([y_df, y_df_new], ignore_index=True)\n",
    "    count = count + 1\n",
    "\n",
    "y_df.to_pickle('../datasets/training_data-y_value.pkl')"
   ]
  },
  {
   "cell_type": "code",
   "execution_count": 18,
   "metadata": {},
   "outputs": [
    {
     "name": "stderr",
     "output_type": "stream",
     "text": [
      "100%|██████████| 34/34 [00:42<00:00,  1.26s/it]\n"
     ]
    }
   ],
   "source": [
    "# testing x values\n",
    "df_test = []\n",
    "count = 0\n",
    "for test_set in tqdm(testing_sets):\n",
    "    if count == 0:\n",
    "        df_test = pd.read_csv(path + test_set)[X_columns]\n",
    "    else:\n",
    "        df_test_new = pd.read_csv(path + test_set)[X_columns]\n",
    "        df_test = pd.concat([df_test, df_test_new], ignore_index=True)\n",
    "    count = count + 1\n",
    "\n",
    "df_test.to_pickle('../datasets/test_data-X_values.pkl')"
   ]
  },
  {
   "cell_type": "code",
   "execution_count": 19,
   "metadata": {},
   "outputs": [
    {
     "name": "stderr",
     "output_type": "stream",
     "text": [
      "100%|██████████| 34/34 [00:26<00:00,  1.30it/s]\n"
     ]
    }
   ],
   "source": [
    "y_df_test = []\n",
    "\n",
    "count = 0\n",
    "for test_set in tqdm(testing_sets):\n",
    "    if count == 0:\n",
    "        y_df_test = pd.read_csv(path + test_set)[y_column]\n",
    "    else:\n",
    "        y_df_test_new = pd.read_csv(path + test_set)[y_column]\n",
    "        y_df_test = pd.concat([y_df_test, y_df_test_new], ignore_index=True)\n",
    "    count = count + 1\n",
    "\n",
    "y_df_test.to_pickle('../datasets/test_data-y_value.pkl')"
   ]
  },
  {
   "cell_type": "code",
   "execution_count": null,
   "metadata": {},
   "outputs": [],
   "source": []
  }
 ],
 "metadata": {
  "kernelspec": {
   "display_name": "daps",
   "language": "python",
   "name": "python3"
  },
  "language_info": {
   "codemirror_mode": {
    "name": "ipython",
    "version": 3
   },
   "file_extension": ".py",
   "mimetype": "text/x-python",
   "name": "python",
   "nbconvert_exporter": "python",
   "pygments_lexer": "ipython3",
   "version": "3.11.5"
  }
 },
 "nbformat": 4,
 "nbformat_minor": 2
}
